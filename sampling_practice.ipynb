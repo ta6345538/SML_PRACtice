{
  "nbformat": 4,
  "nbformat_minor": 0,
  "metadata": {
    "colab": {
      "provenance": [],
      "authorship_tag": "ABX9TyO/sWx7QrODXgXuBxoKZdLX",
      "include_colab_link": true
    },
    "kernelspec": {
      "name": "python3",
      "display_name": "Python 3"
    },
    "language_info": {
      "name": "python"
    }
  },
  "cells": [
    {
      "cell_type": "markdown",
      "metadata": {
        "id": "view-in-github",
        "colab_type": "text"
      },
      "source": [
        "<a href=\"https://colab.research.google.com/github/ta6345538/SML_PRACtice/blob/main/sampling_practice.ipynb\" target=\"_parent\"><img src=\"https://colab.research.google.com/assets/colab-badge.svg\" alt=\"Open In Colab\"/></a>"
      ]
    },
    {
      "cell_type": "code",
      "execution_count": 8,
      "metadata": {
        "id": "VIksykJxYoFy"
      },
      "outputs": [],
      "source": [
        "import pandas as pd\n",
        "import numpy as np\n",
        "import matplotlib.pyplot as plt"
      ]
    },
    {
      "cell_type": "code",
      "source": [
        "df = pd.read_csv('all.csv')"
      ],
      "metadata": {
        "id": "I_V5rfocYuCK"
      },
      "execution_count": 9,
      "outputs": []
    },
    {
      "cell_type": "code",
      "source": [
        "df.columns"
      ],
      "metadata": {
        "colab": {
          "base_uri": "https://localhost:8080/"
        },
        "id": "SOlOIsP5ERqc",
        "outputId": "fa5691e2-1611-412b-a148-b7ed42f789ad"
      },
      "execution_count": 10,
      "outputs": [
        {
          "output_type": "execute_result",
          "data": {
            "text/plain": [
              "Index(['Unnamed: 0', 'State', 'District', 'Persons', 'Males', 'Females',\n",
              "       'Growth..1991...2001.', 'Rural', 'Urban', 'Scheduled.Caste.population',\n",
              "       'Percentage...SC.to.total', 'Number.of.households',\n",
              "       'Household.size..per.household.', 'Sex.ratio..females.per.1000.males.',\n",
              "       'Sex.ratio..0.6.years.', 'Scheduled.Tribe.population',\n",
              "       'Percentage.to.total.population..ST.', 'Persons..literate',\n",
              "       'Males..Literate', 'Females..Literate', 'Persons..literacy.rate',\n",
              "       'Males..Literatacy.Rate', 'Females..Literacy.Rate', 'Total.Educated',\n",
              "       'Data.without.level', 'Below.Primary', 'Primary', 'Middle',\n",
              "       'Matric.Higher.Secondary.Diploma', 'Graduate.and.Above', 'X0...4.years',\n",
              "       'X5...14.years', 'X15...59.years', 'X60.years.and.above..Incl..A.N.S..',\n",
              "       'Total.workers', 'Main.workers', 'Marginal.workers', 'Non.workers',\n",
              "       'SC.1.Name', 'SC.1.Population', 'SC.2.Name', 'SC.2.Population',\n",
              "       'SC.3.Name', 'SC.3.Population', 'Religeon.1.Name',\n",
              "       'Religeon.1.Population', 'Religeon.2.Name', 'Religeon.2.Population',\n",
              "       'Religeon.3.Name', 'Religeon.3.Population', 'ST.1.Name',\n",
              "       'ST.1.Population', 'ST.2.Name', 'ST.2.Population', 'ST.3.Name',\n",
              "       'ST.3.Population', 'Imp.Town.1.Name', 'Imp.Town.1.Population',\n",
              "       'Imp.Town.2.Name', 'Imp.Town.2.Population', 'Imp.Town.3.Name',\n",
              "       'Imp.Town.3.Population', 'Total.Inhabited.Villages',\n",
              "       'Drinking.water.facilities', 'Safe.Drinking.water',\n",
              "       'Electricity..Power.Supply.', 'Electricity..domestic.',\n",
              "       'Electricity..Agriculture.', 'Primary.school', 'Middle.schools',\n",
              "       'Secondary.Sr.Secondary.schools', 'College', 'Medical.facility',\n",
              "       'Primary.Health.Centre', 'Primary.Health.Sub.Centre',\n",
              "       'Post..telegraph.and.telephone.facility', 'Bus.services',\n",
              "       'Paved.approach.road', 'Mud.approach.road', 'Permanent.House',\n",
              "       'Semi.permanent.House', 'Temporary.House'],\n",
              "      dtype='object')"
            ]
          },
          "metadata": {},
          "execution_count": 10
        }
      ]
    },
    {
      "cell_type": "code",
      "source": [
        "df_samp = df[['State', 'District', 'Persons']].dropna()"
      ],
      "metadata": {
        "id": "yq9CWDXYEkR9"
      },
      "execution_count": 11,
      "outputs": []
    },
    {
      "cell_type": "code",
      "source": [
        "# Number of samples to draw\n",
        "n_samples = 100"
      ],
      "metadata": {
        "id": "wFVR8T6rEW5S"
      },
      "execution_count": 12,
      "outputs": []
    },
    {
      "cell_type": "markdown",
      "source": [
        "Simple Random Sampling"
      ],
      "metadata": {
        "id": "WzOjpQz9Hr_D"
      }
    },
    {
      "cell_type": "code",
      "source": [
        "srs_sample = df_samp.sample(n=n_samples, random_state=42).reset_index(drop=True)"
      ],
      "metadata": {
        "id": "DKryPx8JG8PZ"
      },
      "execution_count": 14,
      "outputs": []
    },
    {
      "cell_type": "code",
      "source": [
        "plt.subplot(2, 2, 2)\n",
        "plt.hist(srs_sample['Persons'], bins=30, color='skyblue', edgecolor='black')\n",
        "plt.title('Simple Random Sample')\n",
        "plt.xlabel('Persons')"
      ],
      "metadata": {
        "colab": {
          "base_uri": "https://localhost:8080/",
          "height": 287
        },
        "id": "mdeyrWztHd_-",
        "outputId": "9b902d9f-7b87-49b4-e27f-15fcb871e10d"
      },
      "execution_count": 15,
      "outputs": [
        {
          "output_type": "execute_result",
          "data": {
            "text/plain": [
              "Text(0.5, 0, 'Persons')"
            ]
          },
          "metadata": {},
          "execution_count": 15
        },
        {
          "output_type": "display_data",
          "data": {
            "text/plain": [
              "<Figure size 640x480 with 1 Axes>"
            ],
            "image/png": "[encoded data removed]"
          },
          "metadata": {}
        }
      ]
    },
    {
      "cell_type": "markdown",
      "source": [
        "Systematic Sampling"
      ],
      "metadata": {
        "id": "EgMAlAkSH8tc"
      }
    },
    {
      "cell_type": "code",
      "source": [
        "step = len(df_samp) // n_samples\n",
        "start = np.random.randint(0, step)\n",
        "systematic_indices = list(range(start, start + step * n_samples, step))\n",
        "systematic_sample = df_samp.iloc[systematic_indices].reset_index(drop=True)"
      ],
      "metadata": {
        "id": "2GX85skIIA5r"
      },
      "execution_count": 16,
      "outputs": []
    },
    {
      "cell_type": "code",
      "source": [
        "plt.subplot(2, 2, 3)\n",
        "plt.hist(systematic_sample['Persons'], bins=30, color='orange', edgecolor='black')\n",
        "plt.title('Systematic Sample')\n",
        "plt.xlabel('Persons')"
      ],
      "metadata": {
        "colab": {
          "base_uri": "https://localhost:8080/",
          "height": 287
        },
        "id": "2Ox9kCqDIJQP",
        "outputId": "06d9fefb-c56e-4f29-9b07-6ec0be3007c3"
      },
      "execution_count": 17,
      "outputs": [
        {
          "output_type": "execute_result",
          "data": {
            "text/plain": [
              "Text(0.5, 0, 'Persons')"
            ]
          },
          "metadata": {},
          "execution_count": 17
        },
        {
          "output_type": "display_data",
          "data": {
            "text/plain": [
              "<Figure size 640x480 with 1 Axes>"
            ],
            "image/png": "[encoded data removed]"
          },
          "metadata": {}
        }
      ]
    },
    {
      "cell_type": "markdown",
      "source": [
        "Stratified Sampling (by State)"
      ],
      "metadata": {
        "id": "XmeW27_lIS2z"
      }
    },
    {
      "cell_type": "code",
      "source": [
        "# First check how many states are there\n",
        "states = df_samp['State'].unique()\n",
        "n_states = len(states)\n",
        "\n",
        "# Allocate samples proportionally (some states may have few districts)\n",
        "samples_per_state = max(n_samples // n_states, 1)\n",
        "\n",
        "stratified_sample = (\n",
        "    df_samp.groupby('State', group_keys=False)\n",
        "    .apply(lambda x: x.sample(min(len(x), samples_per_state), random_state=1))\n",
        "    .reset_index(drop=True)\n",
        ")"
      ],
      "metadata": {
        "colab": {
          "base_uri": "https://localhost:8080/"
        },
        "id": "9wPBWyb5ING_",
        "outputId": "980d51d8-cb08-4b1f-a9cf-3cd7a4f20df9"
      },
      "execution_count": 18,
      "outputs": [
        {
          "output_type": "stream",
          "name": "stderr",
          "text": [
            "<ipython-input-18-3ba47212119e>:10: DeprecationWarning: DataFrameGroupBy.apply operated on the grouping columns. This behavior is deprecated, and in a future version of pandas the grouping columns will be excluded from the operation. Either pass `include_groups=False` to exclude the groupings or explicitly select the grouping columns after groupby to silence this warning.\n",
            "  .apply(lambda x: x.sample(min(len(x), samples_per_state), random_state=1))\n"
          ]
        }
      ]
    },
    {
      "cell_type": "code",
      "source": [
        "plt.subplot(2, 2, 4)\n",
        "plt.hist(stratified_sample['Persons'], bins=30, color='lightgreen', edgecolor='black')\n",
        "plt.title('Stratified Sample (by State)')\n",
        "plt.xlabel('Persons')\n",
        "\n",
        "plt.tight_layout()\n",
        "plt.show()"
      ],
      "metadata": {
        "colab": {
          "base_uri": "https://localhost:8080/",
          "height": 287
        },
        "id": "EZTOlcWMIbbx",
        "outputId": "b2dc158c-d695-4e33-a75c-0169bb60258a"
      },
      "execution_count": 19,
      "outputs": [
        {
          "output_type": "display_data",
          "data": {
            "text/plain": [
              "<Figure size 640x480 with 1 Axes>"
            ],
            "image/png": "[encoded data removed]"
          },
          "metadata": {}
        }
      ]
    },
    {
      "cell_type": "markdown",
      "source": [
        "Probability Proportional to Size (PPS) Sampling"
      ],
      "metadata": {
        "id": "5CSYl7GNIvcE"
      }
    },
    {
      "cell_type": "code",
      "source": [
        "\n",
        "# Drop rows with missing values in required columns (to avoid errors)\n",
        "df_pps = df[['State', 'District', 'Persons']].dropna()\n",
        "\n",
        "# Size variable: 'Persons'\n",
        "size_variable = df_pps['Persons'].values\n",
        "\n",
        "# Calculate cumulative sum of size variable\n",
        "cum_size = np.cumsum(size_variable)\n",
        "\n",
        "# Total sum\n",
        "total = cum_size[-1]\n",
        "\n",
        "# How many samples to draw?\n",
        "n_samples = 100\n",
        "\n",
        "# Random selection points based on cumulative size\n",
        "interval = total / n_samples\n",
        "start = np.random.uniform(0, interval)\n",
        "points = [start + i * interval for i in range(n_samples)]\n",
        "\n",
        "# Find indices corresponding to sampling points\n",
        "sampled_indices = np.searchsorted(cum_size, points)\n",
        "\n",
        "# Select the samples from the DataFrame\n",
        "sample_pps = df_pps.iloc[sampled_indices]\n",
        "print(sample_pps.head(10))"
      ],
      "metadata": {
        "colab": {
          "base_uri": "https://localhost:8080/"
        },
        "id": "9Jziw4zFIgdR",
        "outputId": "b31a9cc6-b440-44b7-afa3-46f8e1e7fb7a"
      },
      "execution_count": 20,
      "outputs": [
        {
          "output_type": "stream",
          "name": "stdout",
          "text": [
            "     State                                          District  Persons\n",
            "5   Andhra          District Medak (04), Andhra Pradesh (28)  2670097\n",
            "8   Andhra    District Mahbubnagar (07), Andhra Pradesh (28)  3513934\n",
            "11  Andhra        District Khammam (10), Andhra Pradesh (28)  2578927\n",
            "14  Andhra  District Visakhapatnam (13), Andhra Pradesh (28)  3832336\n",
            "17  Andhra         District Guntur (17), Andhra Pradesh (28)  4465144\n",
            "20  Andhra       District Cuddapah (20), Andhra Pradesh (28)  2601797\n",
            "23  Andhra       District Chittoor (23), Andhra Pradesh (28)  3745875\n",
            "42   Assam                  District Kamrup (06), Assam (18)  2522324\n",
            "50   Assam                District Tinsukia (14), Assam (18)  1150062\n",
            "60   Bihar      District Pashchim Champaran (01), Bihar (10)  3043466\n"
          ]
        }
      ]
    },
    {
      "cell_type": "code",
      "source": [
        "# Histogram of PPS Sample\n",
        "plt.subplot(1, 2, 2)\n",
        "sample_pps['Persons'].hist(bins=30, color='orange')\n",
        "plt.title(\"PPS Sample - Persons\")\n",
        "\n",
        "plt.tight_layout()\n",
        "plt.show()"
      ],
      "metadata": {
        "colab": {
          "base_uri": "https://localhost:8080/",
          "height": 487
        },
        "id": "E28-WS3cI1qC",
        "outputId": "466bf668-638a-4dc7-f0f9-a43598bd862f"
      },
      "execution_count": 21,
      "outputs": [
        {
          "output_type": "display_data",
          "data": {
            "text/plain": [
              "<Figure size 640x480 with 1 Axes>"
            ],
            "image/png": "[encoded data removed]"
          },
          "metadata": {}
        }
      ]
    },
    {
      "cell_type": "code",
      "source": [],
      "metadata": {
        "id": "QdNm-FTqI8nK"
      },
      "execution_count": null,
      "outputs": []
    }
  ]
}